{
 "metadata": {
  "language_info": {
   "codemirror_mode": {
    "name": "ipython",
    "version": 3
   },
   "file_extension": ".py",
   "mimetype": "text/x-python",
   "name": "python",
   "nbconvert_exporter": "python",
   "pygments_lexer": "ipython3",
   "version": "3.7.4-final"
  },
  "orig_nbformat": 2,
  "kernelspec": {
   "name": "python3",
   "display_name": "Python 3",
   "language": "python"
  }
 },
 "nbformat": 4,
 "nbformat_minor": 2,
 "cells": [
  {
   "cell_type": "code",
   "execution_count": 2,
   "metadata": {},
   "outputs": [],
   "source": [
    "import pandas as pd"
   ]
  },
  {
   "cell_type": "code",
   "execution_count": 6,
   "metadata": {},
   "outputs": [],
   "source": [
    "df_1 = pd.read_excel(r'D:\\UCAS\\Phd\\Projects\\202101文德数慧\\网络信息语料 文德 20210122.xlsx', sheet_name='测试集')\n",
    "df_0 = pd.read_csv(r'D:\\UCAS\\Phd\\Projects\\202101文德数慧\\weibo_senti_100k.csv')\n",
    "df_0 = df_0.sample(n=10000).reset_index(drop=True)"
   ]
  },
  {
   "cell_type": "code",
   "execution_count": 11,
   "metadata": {},
   "outputs": [],
   "source": [
    "data = pd.DataFrame(columns=['label','text'])\n",
    "for i in range(len(df_0)):\n",
    "    label = 0\n",
    "    text = df_0.iloc[i]['review']\n",
    "    data = data.append(pd.DataFrame({'label':[label],'text':[text]}),ignore_index=True)\n",
    "\n"
   ]
  },
  {
   "cell_type": "code",
   "execution_count": 12,
   "metadata": {},
   "outputs": [
    {
     "output_type": "execute_result",
     "data": {
      "text/plain": [
       "     label  lable                                               text\n",
       "0      NaN    0.0    如果白云峰真的是gay,我就在也不相信国内还有不弯的型男。伤心死了。[泪][抓狂][泪][泪]\n",
       "1      NaN    0.0  看完电影，俺脑海里马上开始搜索，这是咱认识的哪位美食编辑呢？[哈哈]没敢对号入座！//@美食...\n",
       "2      NaN    0.0  在北京，想去都去不了[失望]//@悠贝亲子图书馆: @保冬妮[给力]讲座！谁要来？@alan...\n",
       "3      NaN    0.0  北京应该是没有狗肉屠宰检疫的，按销售未检疫肉类举报//@Fakuman:北京应该带头取缔狗肉...\n",
       "4      NaN    0.0  好忙，今年的年假都木时间休呢//@新西兰王熊猫: 19号么[泪]忙死了最近，肥不去了这次。咱...\n",
       "...    ...    ...                                                ...\n",
       "9995   NaN    0.0                           我是有多用心，晚上做梦都是写，写，写的！[抓狂]\n",
       "9996   NaN    0.0  #去嘉兴体验城中古镇--月河坊# 哇，我们泡个小咖啡馆，居然还是包间[给力][嘻嘻] 就是这...\n",
       "9997   NaN    0.0                       我痛心是因为我根本不震惊[衰][衰]另一场drama而已\n",
       "9998   NaN    0.0  #高德地图哪都熟#高德地图广告上刊啦！（碰巧和老东家亚马逊的碰到一起[嘻嘻]）。哪位童鞋有看...\n",
       "9999   NaN    0.0  回复@晴儿ff的微博:突然想起来，上午还有人来装马桶，下午还有人来修水槽[泪]，周末啊 //...\n",
       "\n",
       "[10000 rows x 3 columns]"
      ],
      "text/html": "<div>\n<style scoped>\n    .dataframe tbody tr th:only-of-type {\n        vertical-align: middle;\n    }\n\n    .dataframe tbody tr th {\n        vertical-align: top;\n    }\n\n    .dataframe thead th {\n        text-align: right;\n    }\n</style>\n<table border=\"1\" class=\"dataframe\">\n  <thead>\n    <tr style=\"text-align: right;\">\n      <th></th>\n      <th>label</th>\n      <th>lable</th>\n      <th>text</th>\n    </tr>\n  </thead>\n  <tbody>\n    <tr>\n      <td>0</td>\n      <td>NaN</td>\n      <td>0.0</td>\n      <td>如果白云峰真的是gay,我就在也不相信国内还有不弯的型男。伤心死了。[泪][抓狂][泪][泪]</td>\n    </tr>\n    <tr>\n      <td>1</td>\n      <td>NaN</td>\n      <td>0.0</td>\n      <td>看完电影，俺脑海里马上开始搜索，这是咱认识的哪位美食编辑呢？[哈哈]没敢对号入座！//@美食...</td>\n    </tr>\n    <tr>\n      <td>2</td>\n      <td>NaN</td>\n      <td>0.0</td>\n      <td>在北京，想去都去不了[失望]//@悠贝亲子图书馆: @保冬妮[给力]讲座！谁要来？@alan...</td>\n    </tr>\n    <tr>\n      <td>3</td>\n      <td>NaN</td>\n      <td>0.0</td>\n      <td>北京应该是没有狗肉屠宰检疫的，按销售未检疫肉类举报//@Fakuman:北京应该带头取缔狗肉...</td>\n    </tr>\n    <tr>\n      <td>4</td>\n      <td>NaN</td>\n      <td>0.0</td>\n      <td>好忙，今年的年假都木时间休呢//@新西兰王熊猫: 19号么[泪]忙死了最近，肥不去了这次。咱...</td>\n    </tr>\n    <tr>\n      <td>...</td>\n      <td>...</td>\n      <td>...</td>\n      <td>...</td>\n    </tr>\n    <tr>\n      <td>9995</td>\n      <td>NaN</td>\n      <td>0.0</td>\n      <td>我是有多用心，晚上做梦都是写，写，写的！[抓狂]</td>\n    </tr>\n    <tr>\n      <td>9996</td>\n      <td>NaN</td>\n      <td>0.0</td>\n      <td>#去嘉兴体验城中古镇--月河坊# 哇，我们泡个小咖啡馆，居然还是包间[给力][嘻嘻] 就是这...</td>\n    </tr>\n    <tr>\n      <td>9997</td>\n      <td>NaN</td>\n      <td>0.0</td>\n      <td>我痛心是因为我根本不震惊[衰][衰]另一场drama而已</td>\n    </tr>\n    <tr>\n      <td>9998</td>\n      <td>NaN</td>\n      <td>0.0</td>\n      <td>#高德地图哪都熟#高德地图广告上刊啦！（碰巧和老东家亚马逊的碰到一起[嘻嘻]）。哪位童鞋有看...</td>\n    </tr>\n    <tr>\n      <td>9999</td>\n      <td>NaN</td>\n      <td>0.0</td>\n      <td>回复@晴儿ff的微博:突然想起来，上午还有人来装马桶，下午还有人来修水槽[泪]，周末啊 //...</td>\n    </tr>\n  </tbody>\n</table>\n<p>10000 rows × 3 columns</p>\n</div>"
     },
     "metadata": {},
     "execution_count": 12
    }
   ],
   "source": [
    "data"
   ]
  },
  {
   "cell_type": "code",
   "execution_count": 13,
   "metadata": {},
   "outputs": [],
   "source": [
    "df_1 = pd.read_excel(r'D:\\UCAS\\Phd\\Projects\\202101文德数慧\\网络信息语料 文德 20210122.xlsx', sheet_name='测试集')\n",
    "df_0 = pd.read_csv(r'D:\\UCAS\\Phd\\Projects\\202101文德数慧\\weibo_senti_100k.csv')\n",
    "df_0 = df_0.sample(n=10000).reset_index(drop=True)\n",
    "data = pd.DataFrame(columns=['label','text'])\n",
    "\n",
    "for i in range(len(df_0)):\n",
    "    label = 0\n",
    "    text = df_0.iloc[i]['review']\n",
    "    data = data.append(pd.DataFrame({'label':[label],'text':[text]}),ignore_index=True)\n",
    "\n",
    "for i in range(len(df_1)):\n",
    "    label = 1\n",
    "    text = df_1.iloc[i]['内容']\n",
    "    data = data.append(pd.DataFrame({'label':[label],'text':[text]}),ignore_index=True)\n",
    "\n",
    "data['label'] = data['label'].astype(int)\n",
    "data = data.sample(frac=1).reset_index(drop=True)\n",
    "data_test = data[:2000]\n",
    "data_train = data[2000:]\n",
    "\n",
    "data_train.to_csv(r\"D:\\UCAS\\Phd\\Projects\\202101文德数慧\\train.tsv\",sep='\\t',header=False,index=False)\n",
    "data_test.to_csv(r\"D:\\UCAS\\Phd\\Projects\\202101文德数慧\\test.tsv\",sep='\\t',header=False,index=False)\n",
    "data_test.to_csv(r\"D:\\UCAS\\Phd\\Projects\\202101文德数慧\\dev.tsv\",sep='\\t',header=False,index=False)\n",
    "\n"
   ]
  },
  {
   "cell_type": "code",
   "execution_count": null,
   "metadata": {},
   "outputs": [],
   "source": []
  }
 ]
}