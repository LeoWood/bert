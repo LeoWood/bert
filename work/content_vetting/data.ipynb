{
 "metadata": {
  "language_info": {
   "codemirror_mode": {
    "name": "ipython",
    "version": 3
   },
   "file_extension": ".py",
   "mimetype": "text/x-python",
   "name": "python",
   "nbconvert_exporter": "python",
   "pygments_lexer": "ipython3",
   "version": "3.8.5-final"
  },
  "orig_nbformat": 2,
  "kernelspec": {
   "name": "python3",
   "display_name": "Python 3",
   "language": "python"
  }
 },
 "nbformat": 4,
 "nbformat_minor": 2,
 "cells": [
  {
   "cell_type": "code",
   "execution_count": 1,
   "metadata": {},
   "outputs": [],
   "source": [
    "import pandas as pd"
   ]
  },
  {
   "cell_type": "code",
   "execution_count": 5,
   "metadata": {},
   "outputs": [],
   "source": [
    "df_1 = pd.read_excel('/Users/leo/Work/项目工作/文德数慧-文本内容审核/分类实验/数据/网络信息语料 文德 20210122.xlsx', sheet_name='测试集')\n",
    "df_0 = pd.read_csv('/Users/leo/Work/项目工作/文德数慧-文本内容审核/分类实验/数据/simplifyweibo_4_moods.csv')\n",
    "df_0 = df_0.sample(n=10000).reset_index(drop=True)\n",
    "data = pd.DataFrame(columns=['label','text'])\n",
    "\n",
    "for i in range(df_0):\n",
    "    label = 0\n",
    "    text = df_0.iloc[i]['review']\n",
    "    data = data.append(pd.DataFrame({'lable':[label],'text':[text]}),ignore_index=True)\n",
    "\n",
    "for i in range(df_1):\n",
    "    label = 1\n",
    "    text = df_1.iloc[i]['内容']\n",
    "    data = data.append(pd.DataFrame({'lable':[label],'text':[text]}),ignore_index=True)\n",
    "\n",
    "data = data.sample(frac=1).reset_index(drop=True)\n",
    "data_test = data[:2000]\n",
    "data_train = data[2000:]\n",
    "\n",
    "data_train.to_csv(\"train.tsv\",sep='\\t',header=False,index=False)\n",
    "data_test.to_csv(\"test.tsv\",sep='\\t',header=False,index=False)\n",
    "data_test.to_csv(\"dev.tsv\",sep='\\t',header=False,index=False)\n",
    "\n"
   ]
  },
  {
   "cell_type": "code",
   "execution_count": 10,
   "metadata": {},
   "outputs": [
    {
     "output_type": "execute_result",
     "data": {
      "text/plain": [
       "      label                                             review\n",
       "0         0    太佩服了，康永哥刚发布该微博3分钟，就有110条回复，系统居然没瘫痪。。。真是太惊奇了！何必呢\n",
       "1         0                                   我也笑了来自湛江的学校，我笑了。\n",
       "2         1              回复应该是电池的事，我用的是后配的山寨电池哇为什么会爆炸呢？手机昨天爆炸了\n",
       "3         3           三字——不要脸电焊工，农民工，临时工，挣的是卖白菜的钱，顶的是卖白粉的罪！！！！\n",
       "4         0  各位考日语的要注意了。【12月战役打响】2010年12月日本语能力测试的网上报名即将开始。→...\n",
       "...     ...                                                ...\n",
       "9995      3  回复好嘛,姐姐请你吃糖!!你自己记着哈,搞忘了我不负责...回复汗。吃糖跟男朋友有毛线关系。...\n",
       "9996      1  。晚上和一个中移动的高层吃饭，他说现在中国每一部手机的通话过程全部被记录并储存成数据库，随时...\n",
       "9997      3  鸡肚一个…好贵的枕头: 啊啊啊啊啊啊啊。。这猫的枕头真高级T _ T : 我真的真的想翻墙在...\n",
       "9998      0         有什么好惊讶的，周末穿戴整齐陪老婆逛街，好男淫不都是这样的么，Let ’s go !\n",
       "9999      2            感动青梅竹马，两小无猜，执子之手，白头偕老的爱情！感动放学了，我们一起回家吧。\n",
       "\n",
       "[10000 rows x 2 columns]"
      ],
      "text/html": "<div>\n<style scoped>\n    .dataframe tbody tr th:only-of-type {\n        vertical-align: middle;\n    }\n\n    .dataframe tbody tr th {\n        vertical-align: top;\n    }\n\n    .dataframe thead th {\n        text-align: right;\n    }\n</style>\n<table border=\"1\" class=\"dataframe\">\n  <thead>\n    <tr style=\"text-align: right;\">\n      <th></th>\n      <th>label</th>\n      <th>review</th>\n    </tr>\n  </thead>\n  <tbody>\n    <tr>\n      <th>0</th>\n      <td>0</td>\n      <td>太佩服了，康永哥刚发布该微博3分钟，就有110条回复，系统居然没瘫痪。。。真是太惊奇了！何必呢</td>\n    </tr>\n    <tr>\n      <th>1</th>\n      <td>0</td>\n      <td>我也笑了来自湛江的学校，我笑了。</td>\n    </tr>\n    <tr>\n      <th>2</th>\n      <td>1</td>\n      <td>回复应该是电池的事，我用的是后配的山寨电池哇为什么会爆炸呢？手机昨天爆炸了</td>\n    </tr>\n    <tr>\n      <th>3</th>\n      <td>3</td>\n      <td>三字——不要脸电焊工，农民工，临时工，挣的是卖白菜的钱，顶的是卖白粉的罪！！！！</td>\n    </tr>\n    <tr>\n      <th>4</th>\n      <td>0</td>\n      <td>各位考日语的要注意了。【12月战役打响】2010年12月日本语能力测试的网上报名即将开始。→...</td>\n    </tr>\n    <tr>\n      <th>...</th>\n      <td>...</td>\n      <td>...</td>\n    </tr>\n    <tr>\n      <th>9995</th>\n      <td>3</td>\n      <td>回复好嘛,姐姐请你吃糖!!你自己记着哈,搞忘了我不负责...回复汗。吃糖跟男朋友有毛线关系。...</td>\n    </tr>\n    <tr>\n      <th>9996</th>\n      <td>1</td>\n      <td>。晚上和一个中移动的高层吃饭，他说现在中国每一部手机的通话过程全部被记录并储存成数据库，随时...</td>\n    </tr>\n    <tr>\n      <th>9997</th>\n      <td>3</td>\n      <td>鸡肚一个…好贵的枕头: 啊啊啊啊啊啊啊。。这猫的枕头真高级T _ T : 我真的真的想翻墙在...</td>\n    </tr>\n    <tr>\n      <th>9998</th>\n      <td>0</td>\n      <td>有什么好惊讶的，周末穿戴整齐陪老婆逛街，好男淫不都是这样的么，Let ’s go !</td>\n    </tr>\n    <tr>\n      <th>9999</th>\n      <td>2</td>\n      <td>感动青梅竹马，两小无猜，执子之手，白头偕老的爱情！感动放学了，我们一起回家吧。</td>\n    </tr>\n  </tbody>\n</table>\n<p>10000 rows × 2 columns</p>\n</div>"
     },
     "metadata": {},
     "execution_count": 10
    }
   ],
   "source": [
    "df_0"
   ]
  },
  {
   "cell_type": "code",
   "execution_count": 7,
   "metadata": {},
   "outputs": [
    {
     "output_type": "execute_result",
     "data": {
      "text/plain": [
       "         标签         内容\n",
       "0     label    content\n",
       "1        色情  脚真好看，能跤我吗\n",
       "2        色情   你咋不死，小黑逼\n",
       "3        色情   长得丑，逼还挺骚\n",
       "4        色情   这么骚，想被操？\n",
       "...     ...        ...\n",
       "6750     色情         做愛\n",
       "6751     色情       做愛電影\n",
       "6752     色情      做愛寫真集\n",
       "6753     色情       做愛自拍\n",
       "6754     色情         做鸡\n",
       "\n",
       "[6755 rows x 2 columns]"
      ],
      "text/html": "<div>\n<style scoped>\n    .dataframe tbody tr th:only-of-type {\n        vertical-align: middle;\n    }\n\n    .dataframe tbody tr th {\n        vertical-align: top;\n    }\n\n    .dataframe thead th {\n        text-align: right;\n    }\n</style>\n<table border=\"1\" class=\"dataframe\">\n  <thead>\n    <tr style=\"text-align: right;\">\n      <th></th>\n      <th>标签</th>\n      <th>内容</th>\n    </tr>\n  </thead>\n  <tbody>\n    <tr>\n      <th>0</th>\n      <td>label</td>\n      <td>content</td>\n    </tr>\n    <tr>\n      <th>1</th>\n      <td>色情</td>\n      <td>脚真好看，能跤我吗</td>\n    </tr>\n    <tr>\n      <th>2</th>\n      <td>色情</td>\n      <td>你咋不死，小黑逼</td>\n    </tr>\n    <tr>\n      <th>3</th>\n      <td>色情</td>\n      <td>长得丑，逼还挺骚</td>\n    </tr>\n    <tr>\n      <th>4</th>\n      <td>色情</td>\n      <td>这么骚，想被操？</td>\n    </tr>\n    <tr>\n      <th>...</th>\n      <td>...</td>\n      <td>...</td>\n    </tr>\n    <tr>\n      <th>6750</th>\n      <td>色情</td>\n      <td>做愛</td>\n    </tr>\n    <tr>\n      <th>6751</th>\n      <td>色情</td>\n      <td>做愛電影</td>\n    </tr>\n    <tr>\n      <th>6752</th>\n      <td>色情</td>\n      <td>做愛寫真集</td>\n    </tr>\n    <tr>\n      <th>6753</th>\n      <td>色情</td>\n      <td>做愛自拍</td>\n    </tr>\n    <tr>\n      <th>6754</th>\n      <td>色情</td>\n      <td>做鸡</td>\n    </tr>\n  </tbody>\n</table>\n<p>6755 rows × 2 columns</p>\n</div>"
     },
     "metadata": {},
     "execution_count": 7
    }
   ],
   "source": [
    "df_1"
   ]
  },
  {
   "cell_type": "code",
   "execution_count": null,
   "metadata": {},
   "outputs": [],
   "source": []
  }
 ]
}