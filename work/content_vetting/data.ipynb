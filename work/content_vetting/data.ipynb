{
 "metadata": {
  "language_info": {
   "codemirror_mode": {
    "name": "ipython",
    "version": 3
   },
   "file_extension": ".py",
   "mimetype": "text/x-python",
   "name": "python",
   "nbconvert_exporter": "python",
   "pygments_lexer": "ipython3",
   "version": "3.8.5-final"
  },
  "orig_nbformat": 2,
  "kernelspec": {
   "name": "python3",
   "display_name": "Python 3",
   "language": "python"
  }
 },
 "nbformat": 4,
 "nbformat_minor": 2,
 "cells": [
  {
   "cell_type": "code",
   "execution_count": 1,
   "metadata": {},
   "outputs": [],
   "source": [
    "import pandas as pd"
   ]
  },
  {
   "cell_type": "code",
   "execution_count": 12,
   "metadata": {},
   "outputs": [],
   "source": [
    "df_1 = pd.read_excel('/Users/leo/Work/项目工作/文德数慧-文本内容审核/分类实验/数据/网络信息语料 文德 20210122.xlsx', sheet_name='测试集')\n",
    "df_0 = pd.read_csv('/Users/leo/Work/项目工作/文德数慧-文本内容审核/分类实验/数据/simplifyweibo_4_moods.csv')\n",
    "df_0 = df_0.sample(n=10000).reset_index(drop=True)\n",
    "data = pd.DataFrame(columns=['label','text'])\n",
    "\n",
    "for i in range(len(df_0)):\n",
    "    label = 0\n",
    "    text = df_0.iloc[i]['review']\n",
    "    data = data.append(pd.DataFrame({'lable':[label],'text':[text]}),ignore_index=True)\n",
    "\n",
    "for i in range(len(df_1)):\n",
    "    label = 1\n",
    "    text = df_1.iloc[i]['内容']\n",
    "    data = data.append(pd.DataFrame({'lable':[label],'text':[text]}),ignore_index=True)\n",
    "\n",
    "data['label'] = data['label'].astype(int)\n",
    "data = data.sample(frac=1).reset_index(drop=True)\n",
    "data_test = data[:2000]\n",
    "data_train = data[2000:]\n",
    "\n",
    "data_train.to_csv(\"train.tsv\",sep='\\t',header=False,index=False)\n",
    "data_test.to_csv(\"test.tsv\",sep='\\t',header=False,index=False)\n",
    "data_test.to_csv(\"dev.tsv\",sep='\\t',header=False,index=False)\n",
    "\n"
   ]
  },
  {
   "cell_type": "code",
   "execution_count": null,
   "metadata": {},
   "outputs": [],
   "source": []
  }
 ]
}